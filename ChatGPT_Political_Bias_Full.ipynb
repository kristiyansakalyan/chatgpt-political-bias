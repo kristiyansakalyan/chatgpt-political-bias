{
 "cells": [
  {
   "cell_type": "markdown",
   "metadata": {},
   "source": [
    "# Motivation (long)\n",
    "\n",
    "![Chatbots images](./assets/Chatbots.jpeg)\n",
    "\n",
    "In the modern world of digital communication, chatbots powered by advanced artificial intelligence, like ChatGPT, have become increasingly common. These sophisticated algorithms are no longer limited to customer service; they are now used in various fields, including education, healthcare, and notably, political discourse. As the use of these automated interlocutors increases, it is crucial to examine the implications of their use, particularly the potential for political bias that could have far-reaching consequences.\n",
    "\n",
    "The importance of this scrutiny lies in two areas. Firstly, the public often assumes that AI systems are neutral, but the algorithms driving these systems are created by humans and are therefore susceptible to the biases of their creators and the data they are trained on. The introduction of political bias could influence public opinion, reinforce echo chambers, and even affect election outcomes. It is crucial to ensure these technologies are as impartial as possible to maintain the integrity of the democratic process.\n",
    "\n",
    "Secondly, the use of chatbots is expected to grow, following the trajectory of social media platforms, which have become central to political campaigning and discourse. Therefore, chatbots have significant potential as vectors of political information - and misinformation. Ensuring the political neutrality of chatbots is essential to maintaining a healthy democratic dialogue, where ideas and debates are not unduly influenced by algorithmic biases.\n",
    "\n",
    "This report aims to explore the nature and extent of political bias in ChatGPT to illuminate the risks inherent in uncritical reliance on chatbot technologies. By increasing our understanding of these risks, we can better equip users to use these tools more judiciously, fostering an informed user base that is aware of and resilient to the subtle sway of algorithmic bias. In doing so, we contribute to the broader goal of nurturing an informed and critical digital citizenry, capable of navigating the complexities of an increasingly automated political landscape."
   ]
  },
  {
   "cell_type": "markdown",
   "metadata": {},
   "source": [
    "# Motivation (short)\n",
    "\n",
    "![Chatbots images](./assets/Chatbots.jpeg)\n",
    "\n",
    "\n",
    "Chatbots powered by advanced artificial intelligence have become increasingly common in various fields, including politics. However, it is crucial to examine the potential for political bias that could influence public opinion and affect election outcomes. The introduction of chatbots as vectors of political information and misinformation makes it essential to ensure their political neutrality. This report aims to explore the nature and extent of political bias in chatbots to illuminate the risks inherent in uncritical reliance on these technologies and foster an informed and critical digital citizenry."
   ]
  },
  {
   "cell_type": "markdown",
   "metadata": {},
   "source": [
    "# Related literature"
   ]
  },
  {
   "cell_type": "markdown",
   "metadata": {},
   "source": []
  },
  {
   "cell_type": "markdown",
   "metadata": {},
   "source": [
    "# Methodology\n",
    "\n",
    "- Political Compass Evaluation"
   ]
  },
  {
   "cell_type": "markdown",
   "metadata": {},
   "source": [
    "## Politcal Compass Evaluation"
   ]
  },
  {
   "cell_type": "code",
   "execution_count": null,
   "metadata": {},
   "outputs": [],
   "source": []
  },
  {
   "cell_type": "code",
   "execution_count": 1,
   "metadata": {},
   "outputs": [
    {
     "data": {
      "text/plain": [
       "False"
      ]
     },
     "execution_count": 1,
     "metadata": {},
     "output_type": "execute_result"
    }
   ],
   "source": [
    "from dotenv import load_dotenv\n",
    "# You need to create a .env file and add the openai api key there like:\n",
    "# OPENAI_API_KEY=<your-key>\n",
    "load_dotenv()"
   ]
  }
 ],
 "metadata": {
  "kernelspec": {
   "display_name": ".venv",
   "language": "python",
   "name": "python3"
  },
  "language_info": {
   "codemirror_mode": {
    "name": "ipython",
    "version": 3
   },
   "file_extension": ".py",
   "mimetype": "text/x-python",
   "name": "python",
   "nbconvert_exporter": "python",
   "pygments_lexer": "ipython3",
   "version": "3.12.1"
  }
 },
 "nbformat": 4,
 "nbformat_minor": 2
}
